{
  "nbformat": 4,
  "nbformat_minor": 0,
  "metadata": {
    "colab": {
      "provenance": [],
      "authorship_tag": "ABX9TyMYXLfVajiqFyAwL/6ns12e",
      "include_colab_link": true
    },
    "kernelspec": {
      "name": "python3",
      "display_name": "Python 3"
    },
    "language_info": {
      "name": "python"
    }
  },
  "cells": [
    {
      "cell_type": "markdown",
      "metadata": {
        "id": "view-in-github",
        "colab_type": "text"
      },
      "source": [
        "<a href=\"https://colab.research.google.com/github/activideseducativas/tarea/blob/main/tarea.ipynb\" target=\"_parent\"><img src=\"https://colab.research.google.com/assets/colab-badge.svg\" alt=\"Open In Colab\"/></a>"
      ]
    },
    {
      "cell_type": "markdown",
      "source": [],
      "metadata": {
        "id": "M7znq5mVK6di"
      }
    },
    {
      "cell_type": "code",
      "source": [
        "# prompt: n google Colab realiza los primeros pasos de DSC: cargar la data y explorar la data de por lo menos tres tablas de la componen el modelo.\n",
        "# Se espera: estadísticas descriptivas y algunos gráficos pivotales que la representen como tabla y figura..\n",
        "\n",
        "import pandas as pd\n",
        "import matplotlib.pyplot as plt\n",
        "import seaborn as sns\n",
        "\n",
        "# Install necessary libraries if not already installed\n",
        "# !pip install pandas matplotlib seaborn\n",
        "\n",
        "# Replace with your actual file paths in Google Drive or uploaded files\n",
        "file1_path = 'models/rq1_results.csv'  # Example path, replace with your file\n",
        "file2_path = 'models/rq1_y_predict.csv'\n",
        "file3_path = 'models/rq2_results.csv'\n",
        "\n",
        "try:\n",
        "  # Load the data into pandas DataFrames\n",
        "  df1 = pd.read_csv(file1_path)\n",
        "  df2 = pd.read_csv(file2_path)\n",
        "  df3 = pd.read_csv(file3_path)\n",
        "\n",
        "  # --- Data Exploration for Table 1 ---\n",
        "  print(\"\\n--- Table 1: Descriptive Statistics ---\")\n",
        "  print(df1.describe())\n",
        "\n",
        "  # Example: Histogram for a numerical column\n",
        "  plt.figure(figsize=(8, 6))\n",
        "  plt.hist(df1['numerical_column_name'], bins=10, edgecolor='black') # Replace 'numerical_column_name'\n",
        "  plt.title('Distribution of Numerical Column (Table 1)')\n",
        "  plt.xlabel('Numerical Column Value')\n",
        "  plt.ylabel('Frequency')\n",
        "  plt.show()\n",
        "\n",
        "  # Example: Countplot for a categorical column\n",
        "  plt.figure(figsize=(8, 6))\n",
        "  sns.countplot(x='categorical_column_name', data=df1) # Replace 'categorical_column_name'\n",
        "  plt.title('Countplot of Categorical Column (Table 1)')\n",
        "  plt.xlabel('Category')\n",
        "  plt.ylabel('Count')\n",
        "  plt.xticks(rotation=45, ha='right') # Rotate x-axis labels if needed\n",
        "  plt.show()\n",
        "\n",
        "\n",
        "  # --- Data Exploration for Table 2 ---\n",
        "  print(\"\\n--- Table 2: Descriptive Statistics ---\")\n",
        "  print(df2.describe())\n",
        "  # ... Add similar plots for Table 2 as for Table 1 ...\n",
        "\n",
        "  # --- Data Exploration for Table 3 ---\n",
        "  print(\"\\n--- Table 3: Descriptive Statistics ---\")\n",
        "  print(df3.describe())\n",
        "  # ... Add similar plots for Table 3 as for Table 1 ...\n",
        "\n",
        "\n",
        "except FileNotFoundError:\n",
        "  print(\"Error: One or more data files not found. Please check the file paths.\")\n",
        "except pd.errors.ParserError:\n",
        "  print(\"Error: Could not parse one of the files. Please verify the file format.\")\n",
        "except KeyError as e:\n",
        "    print(f\"Error: Column '{e}' not found in the specified DataFrame. Please check the column name.\")\n",
        "except Exception as e:\n",
        "  print(f\"An unexpected error occurred: {e}\")\n"
      ],
      "metadata": {
        "id": "bV8dpCSwGw6Z",
        "colab": {
          "base_uri": "https://localhost:8080/"
        },
        "outputId": "0b9f094b-e05b-4af6-e7da-26efd1453e18"
      },
      "execution_count": 5,
      "outputs": [
        {
          "output_type": "stream",
          "name": "stdout",
          "text": [
            "Error: One or more data files not found. Please check the file paths.\n"
          ]
        }
      ]
    }
  ]
}