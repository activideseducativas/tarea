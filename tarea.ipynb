{
  "nbformat": 4,
  "nbformat_minor": 0,
  "metadata": {
    "colab": {
      "provenance": [],
      "authorship_tag": "ABX9TyORh4sav58Qlhhd1Zc1F5dG",
      "include_colab_link": true
    },
    "kernelspec": {
      "name": "python3",
      "display_name": "Python 3"
    },
    "language_info": {
      "name": "python"
    }
  },
  "cells": [
    {
      "cell_type": "markdown",
      "metadata": {
        "id": "view-in-github",
        "colab_type": "text"
      },
      "source": [
        "<a href=\"https://colab.research.google.com/github/activideseducativas/tarea/blob/main/tarea.ipynb\" target=\"_parent\"><img src=\"https://colab.research.google.com/assets/colab-badge.svg\" alt=\"Open In Colab\"/></a>"
      ]
    },
    {
      "cell_type": "code",
      "execution_count": 1,
      "metadata": {
        "colab": {
          "base_uri": "https://localhost:8080/"
        },
        "id": "ajl3B5BJ8mvY",
        "outputId": "f1932bf2-2daa-4a68-c18b-2564c2e5af45"
      },
      "outputs": [
        {
          "output_type": "stream",
          "name": "stdout",
          "text": [
            "Error: File not found for table1 at path/to/table1.csv\n",
            "Error: File not found for table2 at path/to/table2.csv\n",
            "Error: File not found for table3 at path/to/table3.csv\n"
          ]
        }
      ],
      "source": [
        "# prompt: cargar la data y explorar la data de por lo menos tres tablas de la componen el modelo.\n",
        "# Se espera: estadísticas descriptivas y algunos gráficos pivotales que la representen como tabla y figura..\n",
        "\n",
        "import pandas as pd\n",
        "import matplotlib.pyplot as plt\n",
        "import seaborn as sns\n",
        "\n",
        "# Replace with your actual file paths\n",
        "file_paths = {\n",
        "    'table1': 'path/to/table1.csv',\n",
        "    'table2': 'path/to/table2.csv',\n",
        "    'table3': 'path/to/table3.csv'\n",
        "}\n",
        "\n",
        "\n",
        "def explore_data(file_path, table_name):\n",
        "  \"\"\"Loads, describes, and visualizes data from a CSV file.\"\"\"\n",
        "  try:\n",
        "    df = pd.read_csv(file_path)\n",
        "    print(f\"\\n--- Exploring {table_name} ---\")\n",
        "    print(df.head())  # Display first few rows\n",
        "    print(\"\\nData Types:\\n\", df.dtypes)\n",
        "    print(\"\\nDescriptive Statistics:\\n\", df.describe(include='all'))\n",
        "\n",
        "\n",
        "    # Generate some basic plots (adjust based on your data)\n",
        "    numerical_cols = df.select_dtypes(include=['number']).columns\n",
        "    for col in numerical_cols:\n",
        "      plt.figure(figsize=(8, 4))\n",
        "      sns.histplot(df[col], kde=True)\n",
        "      plt.title(f'Distribution of {col} in {table_name}')\n",
        "      plt.show()\n",
        "\n",
        "      plt.figure(figsize=(8,4))\n",
        "      sns.boxplot(y=df[col])\n",
        "      plt.title(f'Boxplot of {col} in {table_name}')\n",
        "      plt.show()\n",
        "\n",
        "  except FileNotFoundError:\n",
        "    print(f\"Error: File not found for {table_name} at {file_path}\")\n",
        "  except Exception as e:\n",
        "    print(f\"An error occurred while processing {table_name}: {e}\")\n",
        "\n",
        "\n",
        "\n",
        "for table_name, file_path in file_paths.items():\n",
        "  explore_data(file_path, table_name)\n"
      ]
    }
  ]
}